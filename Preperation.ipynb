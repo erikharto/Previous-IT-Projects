{
 "cells": [
  {
   "cell_type": "markdown",
   "id": "fca13a14",
   "metadata": {},
   "source": [
    "# <font color='darkred'>Data Cleaning and preparations </font>\n",
    "---\n",
    "**This notebook will:**\n",
    "- Import raw data and clean it\n",
    "- Create two variables:\n",
    "    * **Difference in ranking**\n",
    "    * **Expected goals in the match**\n",
    "    \n",
    "- Explain three different **visualizations**\n",
    "- Return the dataframe as a .csv file to be opened in the model notebook\n",
    "\n",
    "---\n",
    "The overall methodology I have used in this notebook is the following. \n",
    "- Import all game-tables and removed all excessive columns. \n",
    "- Create variables by using dictionaries from last years table\n",
    "- For the teams that has been promoted i provided a score for them based on how the worst team performed last year\n",
    "- For 2017, I added 0 to the columns for the variables I created since I have no data from 2016 to help calculate  \n",
    "- I created some visualizations for the variables I believe will have the highest impact:\n",
    "    - Do the team play Home or Away (**Bar plot**)\n",
    "    - Difference in ranking between the two teams with how many goals they score (**Scatter plot**)\n",
    "    - How many Goals the team scored + how many Goals the opponent conceded last year in total with how many goals they scored (**Scatter plot**)\n",
    "---\n",
    "When I created the variables, I created them seperately for each year, before I stacked them. If I had done the task again, I probably would have studied a way to make this more automatic. "
   ]
  },
  {
   "cell_type": "markdown",
   "id": "576f9e9f",
   "metadata": {},
   "source": [
    "**Importing relevant packages**"
   ]
  },
  {
   "cell_type": "code",
   "execution_count": 4,
   "id": "9e12b174",
   "metadata": {},
   "outputs": [],
   "source": [
    "import pandas as pd\n",
    "from pandas import DataFrame\n",
    "import numpy as np\n",
    "import matplotlib.pyplot as plt\n",
    "import seaborn as sns"
   ]
  },
  {
   "cell_type": "markdown",
   "id": "a835f730",
   "metadata": {},
   "source": [
    "---\n",
    "**Reading in html-files**"
   ]
  },
  {
   "cell_type": "code",
   "execution_count": 5,
   "id": "cede70af",
   "metadata": {},
   "outputs": [],
   "source": [
    "# Reading in table-dataframes\n",
    "table_17 = pd.read_html('17_table.xls', encoding = \"UTF8\")\n",
    "table_17 = DataFrame(table_17[0])\n",
    "\n",
    "table_18 = pd.read_html('18_table.xls', encoding = \"UTF8\")\n",
    "table_18 = DataFrame(table_18[0])\n",
    "\n",
    "table_19 = pd.read_html('19_table.xls', encoding = \"UTF8\")\n",
    "table_19 = DataFrame(table_19[0])\n",
    "\n",
    "#Reading the games-dataframes\n",
    "games_17 = pd.read_html('17_games.xls', encoding = \"UTF8\")\n",
    "games_18 = pd.read_html('18_games.xls', encoding = \"UTF8\")\n",
    "games_19 = pd.read_html('19_games.xls', encoding = \"UTF8\")\n",
    "games_20 = pd.read_html('20_games.xls', encoding = \"UTF8\")"
   ]
  },
  {
   "cell_type": "markdown",
   "id": "16c55717",
   "metadata": {},
   "source": [
    "### Cleaning the games-files\n",
    "**Firstly, converting the html-files to dataframes, before removing the irrelevant columns that 2020 does not have data for.**"
   ]
  },
  {
   "cell_type": "code",
   "execution_count": 6,
   "id": "2ee3c8a4",
   "metadata": {},
   "outputs": [],
   "source": [
    "games_20 = DataFrame(games_20[0])\n",
    "#Creating a function to run the tables through. Had trouble with iterating over the dataframes with a for-loop.\n",
    "def initial_cleaning(dataframe):\n",
    "    dataframe = DataFrame(dataframe[0])\n",
    "    dataframe = dataframe.drop(['Match Report', 'Notes', 'Referee', 'Attendance', 'Day'], axis = 1)\n",
    "    return dataframe\n",
    "\n",
    "# Cleaning\n",
    "games_17 = initial_cleaning(games_17)\n",
    "games_18 = initial_cleaning(games_18)\n",
    "games_19 = initial_cleaning(games_19)\n",
    "\n",
    "games_19 = games_19.drop(['Round'], axis = 1) #only table with 'round', and it does not give any important info\n",
    "# Creating 0-values for Score in games_20 to make all tables alike\n",
    "games_20['Score'] = str('0–0')\n"
   ]
  },
  {
   "cell_type": "markdown",
   "id": "f6ef0bbb",
   "metadata": {},
   "source": [
    "### **More cleaning of the dataframe where the steps are done for all years**"
   ]
  },
  {
   "cell_type": "markdown",
   "id": "ca0d817f",
   "metadata": {},
   "source": [
    "**Here I remove some columns, and delete empty rows. These are the rows in the file that are between the different rounds. I am dropping for 'Home', which means that there are no team to predict the score for, and I will not accidentally drop any relevant rows.**"
   ]
  },
  {
   "cell_type": "code",
   "execution_count": 7,
   "id": "b05cd0aa",
   "metadata": {},
   "outputs": [],
   "source": [
    "# Creating a function that cleans the dataframe so that I don't have to do the same things for each\n",
    "\n",
    "def further_cleaning(dataframe): \n",
    "    #deleting the first columns of what seems very unnecessary\n",
    "    dataframe = dataframe.drop(['Wk', 'Time'], axis = 1)\n",
    "    \n",
    "    #dropping the empty rows which will create error\n",
    "    dataframe = dataframe.dropna(subset = ['Home'])\n",
    "\n",
    "    #changing obj to date_time\n",
    "    dataframe['Date'] =  pd.to_datetime(dataframe['Date'])\n",
    "    \n",
    "    #Splitting the score\n",
    "    dataframe[['Score_home','Score_away']] = dataframe['Score'].str.split('–', expand = True)\n",
    "    cols = dataframe[['Score_home','Score_away']]\n",
    "    dataframe[['Score_home','Score_away']] = dataframe[['Score_home','Score_away']].astype(int)\n",
    "    return dataframe\n",
    "\n",
    "games_17 = further_cleaning(games_17)\n",
    "games_18 = further_cleaning(games_18)\n",
    "games_19 = further_cleaning(games_19)\n",
    "games_20 = further_cleaning(games_20)"
   ]
  },
  {
   "cell_type": "markdown",
   "id": "15f5f379",
   "metadata": {},
   "source": [
    "# <font color='darkred'>Creating variables</font>\n",
    "___\n",
    "## Variable nr. 1: Difference in placement on last year's table"
   ]
  },
  {
   "cell_type": "markdown",
   "id": "ed131071",
   "metadata": {},
   "source": [
    "**The first variable I create is the away team ranking - the home team ranking on last year's table. I have done this by creating a dictionary where squad and ranking are zipped together, and used to provide the rankings for the two teams that play. They are then subtracted to get the variable.**"
   ]
  },
  {
   "cell_type": "code",
   "execution_count": 8,
   "id": "5d77d20e",
   "metadata": {},
   "outputs": [
    {
     "data": {
      "text/plain": [
       "0        LSK Kvinner\n",
       "1          Avaldsnes\n",
       "2             Stabæk\n",
       "3              Klepp\n",
       "4                Røa\n",
       "5       Arna-Bjørnar\n",
       "6          Vålerenga\n",
       "7     Trondheims-Ørn\n",
       "8          Sandviken\n",
       "9            Kolbotn\n",
       "10        Grand Bodø\n",
       "11           Medkila\n",
       "Name: Squad, dtype: object"
      ]
     },
     "execution_count": 8,
     "metadata": {},
     "output_type": "execute_result"
    }
   ],
   "source": [
    "table_17.Squad"
   ]
  },
  {
   "cell_type": "code",
   "execution_count": 9,
   "id": "38946dd9",
   "metadata": {},
   "outputs": [
    {
     "data": {
      "text/plain": [
       "0      1\n",
       "1      2\n",
       "2      3\n",
       "3      4\n",
       "4      5\n",
       "5      6\n",
       "6      7\n",
       "7      8\n",
       "8      9\n",
       "9     10\n",
       "10    11\n",
       "11    12\n",
       "Name: Rk, dtype: int64"
      ]
     },
     "execution_count": 9,
     "metadata": {},
     "output_type": "execute_result"
    }
   ],
   "source": [
    "table_17.Rk"
   ]
  },
  {
   "cell_type": "code",
   "execution_count": 5,
   "id": "c1ec7f1a",
   "metadata": {},
   "outputs": [],
   "source": [
    "## Creating dictionaries and functions for the variable\n",
    "\n",
    "# This dictionary takes the team and its ranking from one year\n",
    "rank_17 = dict(zip(table_17.Squad, table_17.Rk)) # The rankings in 2017 --> to be used in 2018 table\n",
    "rank_18 = dict(zip(table_18.Squad, table_18.Rk)) # The rankings in 2018 --> to be used in 2019 table\n",
    "rank_19 = dict(zip(table_19.Squad, table_19.Rk)) # The rankings in 2019 --> to be used in 2020 table\n",
    "\n",
    "#This is just a function to provide a fair ranking for the teams that have been promoted to the league this season\n",
    "# Since they were just promoted, they will be assigned \n",
    "def provide_score_17(Lag):\n",
    "    if Lag not in rank_17:\n",
    "        rank_17[Lag] = 12\n",
    "    return rank_17[Lag]\n",
    "\n",
    "def provide_score_18(Lag):\n",
    "    if Lag not in rank_18:\n",
    "        rank_18[Lag] = 12\n",
    "    return rank_18[Lag]\n",
    "\n",
    "def provide_score_19(Lag):\n",
    "    if Lag not in rank_19:\n",
    "        rank_19[Lag] = 12\n",
    "    return rank_19[Lag]"
   ]
  },
  {
   "cell_type": "markdown",
   "id": "c9b123ee",
   "metadata": {},
   "source": [
    "**Below i create the new columns**"
   ]
  },
  {
   "cell_type": "code",
   "execution_count": 6,
   "id": "04899359",
   "metadata": {},
   "outputs": [],
   "source": [
    "# Creating columns that calculates the difference in score between the two teams\n",
    "# Firstly I add two columns with the score of each team, and then I calculate the difference in score\n",
    "\n",
    "for i in [\"Rank diff\", \"Rank diff away\", \"Rating_home\",\"Rating_away\"]: # makes the columns stackable\n",
    "    games_17[i] = 0\n",
    "\n",
    "# for 2018\n",
    "games_18[\"Rating_home\"] = games_18.Home.apply(provide_score_17)\n",
    "games_18[\"Rating_away\"] = games_18.Away.apply(provide_score_17)\n",
    "games_18[\"Rank diff\"] = -(games_18[\"Rating_home\"] - games_18[\"Rating_away\"])\n",
    "games_18[\"Rank diff away\"] = (games_18[\"Rating_home\"] - games_18[\"Rating_away\"])\n",
    "\n",
    "# for 2019\n",
    "games_19[\"Rating_home\"] = games_19.Home.apply(provide_score_18)\n",
    "games_19[\"Rating_away\"] = games_19.Away.apply(provide_score_18)\n",
    "games_19[\"Rank diff\"] = -(games_19[\"Rating_home\"] - games_19[\"Rating_away\"])\n",
    "games_19[\"Rank diff away\"] = (games_19[\"Rating_home\"] - games_19[\"Rating_away\"])\n",
    "\n",
    "#For 2020\n",
    "games_20[\"Rating_home\"] = games_20.Home.apply(provide_score_19)\n",
    "games_20[\"Rating_away\"] = games_20.Away.apply(provide_score_19)\n",
    "games_20[\"Rank diff\"] = -(games_20[\"Rating_home\"] - games_20[\"Rating_away\"])\n",
    "games_20[\"Rank diff away\"] = (games_20[\"Rating_home\"] - games_20[\"Rating_away\"])"
   ]
  },
  {
   "cell_type": "markdown",
   "id": "0b4d7c3c",
   "metadata": {},
   "source": [
    "---\n",
    "## <font color='#045F00'>Variable nr. 2: number of goals the team has scored last season + number of goals the opponent has conceded last season</font>\n"
   ]
  },
  {
   "cell_type": "markdown",
   "id": "b6f7f99b",
   "metadata": {},
   "source": [
    "**This variable uses the same procedure as the other variable, but here I am interested in how many goals the team has scored, and how many goals each team has conceded last year. I then add the goals scored of team I will predict with the goals conceded of its opponent.**"
   ]
  },
  {
   "cell_type": "code",
   "execution_count": 7,
   "id": "c687baa4",
   "metadata": {},
   "outputs": [],
   "source": [
    "# Dictionaries matching the team with number of goals scored last season\n",
    "gf_17 = dict(zip(table_17.Squad, table_17.GF))\n",
    "gf_18 = dict(zip(table_18.Squad, table_18.GF))\n",
    "gf_19 = dict(zip(table_19.Squad, table_19.GF))\n",
    "\n",
    "# Dictionaries matching the team with number of goals conceded last season\n",
    "ga_17 = dict(zip(table_17.Squad, table_17.GA))\n",
    "ga_18 = dict(zip(table_18.Squad, table_18.GA))\n",
    "ga_19 = dict(zip(table_19.Squad, table_19.GA))"
   ]
  },
  {
   "cell_type": "code",
   "execution_count": 8,
   "id": "92e5f738",
   "metadata": {},
   "outputs": [],
   "source": [
    "##Creating a column for total of goals Team has scored + Opponent has conceded##\n",
    "\n",
    "#Creating the functions to get the 'Goals' from table_17, 18 and 19\n",
    "def hent_gf_17(Lag):\n",
    "    a = min(gf_17)\n",
    "    if Lag not in gf_17:\n",
    "        gf_17[Lag] = gf_17[a]\n",
    "    return gf_17[Lag]\n",
    "\n",
    "def hent_gf_18(Lag):\n",
    "    a = min(gf_18)\n",
    "    if Lag not in gf_18:\n",
    "        gf_18[Lag] = gf_18[a]\n",
    "    return gf_18[Lag]\n",
    "\n",
    "def hent_gf_19(Lag):\n",
    "    a = min(gf_19)\n",
    "    if Lag not in gf_19:\n",
    "        gf_19[Lag] = gf_19[a]\n",
    "    return gf_19[Lag]"
   ]
  },
  {
   "cell_type": "code",
   "execution_count": 9,
   "id": "d2d2113c",
   "metadata": {},
   "outputs": [],
   "source": [
    "#Creating the functions to get the 'Goals against' from table_17, 18 and 19\n",
    "def hent_ga_17(Lag):\n",
    "    a = max(ga_17)\n",
    "    if Lag not in ga_17:\n",
    "        ga_17[Lag] = ga_17[a]\n",
    "    return ga_17[Lag]\n",
    "\n",
    "def hent_ga_18(Lag):\n",
    "    a = max(ga_18)\n",
    "    if Lag not in ga_18:\n",
    "        ga_18[Lag] = ga_18[a]\n",
    "    return ga_18[Lag]\n",
    "\n",
    "def hent_ga_19(Lag):\n",
    "    a = max(ga_19)\n",
    "    if Lag not in ga_19:\n",
    "        ga_19[Lag] = ga_19[a]\n",
    "    return ga_19[Lag]"
   ]
  },
  {
   "cell_type": "markdown",
   "id": "79e99fd5",
   "metadata": {},
   "source": [
    "**As in the previous variable, I add null values for 2017**"
   ]
  },
  {
   "cell_type": "code",
   "execution_count": 10,
   "id": "74e1b581",
   "metadata": {},
   "outputs": [],
   "source": [
    "\n",
    "for i in [\"Goals_home\", \"Goals_away\", \"Goals expected\", \"Goals expected away\", \"Goalsagainst_home\", \"Goalsagainst_away\"]:\n",
    "    games_17[i] = 0\n",
    "\n",
    "games_18[\"Goals_home\"] = games_18.Home.apply(hent_gf_17)\n",
    "games_18[\"Goals_away\"] = games_18.Away.apply(hent_gf_17)\n",
    "games_18[\"Goalsagainst_home\"] = games_18.Home.apply(hent_ga_17)\n",
    "games_18[\"Goalsagainst_away\"] = games_18.Away.apply(hent_ga_17)\n",
    "games_18[\"Goals expected\"] = (games_18[\"Goals_home\"] + games_18[\"Goalsagainst_away\"])\n",
    "games_18[\"Goals expected away\"] = (games_18[\"Goals_away\"] + games_18[\"Goalsagainst_home\"])\n",
    "\n",
    "games_19[\"Goals_home\"] = games_19.Home.apply(hent_gf_18)\n",
    "games_19[\"Goals_away\"] = games_19.Away.apply(hent_gf_18)\n",
    "games_19[\"Goalsagainst_home\"] = games_19.Home.apply(hent_ga_18)\n",
    "games_19[\"Goalsagainst_away\"] = games_19.Away.apply(hent_ga_18)\n",
    "games_19[\"Goals expected\"] = (games_19[\"Goals_home\"] + games_19[\"Goalsagainst_away\"])\n",
    "games_19[\"Goals expected away\"] = (games_19[\"Goals_away\"] + games_19[\"Goalsagainst_home\"])\n",
    "\n",
    "# I will add for games 20 later\n",
    "games_20[\"Goals_home\"] = games_20.Home.apply(hent_gf_19)\n",
    "games_20[\"Goals_away\"] = games_20.Away.apply(hent_gf_19)\n",
    "games_20[\"Goalsagainst_home\"] = games_20.Home.apply(hent_ga_19)\n",
    "games_20[\"Goalsagainst_away\"] = games_20.Away.apply(hent_ga_19)\n",
    "games_20[\"Goals expected\"] = (games_20[\"Goals_home\"] + games_20[\"Goalsagainst_away\"])\n",
    "games_20[\"Goals expected away\"] = (games_20[\"Goals_away\"] + games_20[\"Goalsagainst_home\"])"
   ]
  },
  {
   "cell_type": "markdown",
   "id": "afdce580",
   "metadata": {},
   "source": [
    "**After I have done the cleaning, I concatenate the models to give a brief overview of how the table looks like after initial cleaning.**"
   ]
  },
  {
   "cell_type": "code",
   "execution_count": 11,
   "id": "7c7833a5",
   "metadata": {},
   "outputs": [
    {
     "data": {
      "text/html": [
       "<div>\n",
       "<style scoped>\n",
       "    .dataframe tbody tr th:only-of-type {\n",
       "        vertical-align: middle;\n",
       "    }\n",
       "\n",
       "    .dataframe tbody tr th {\n",
       "        vertical-align: top;\n",
       "    }\n",
       "\n",
       "    .dataframe thead th {\n",
       "        text-align: right;\n",
       "    }\n",
       "</style>\n",
       "<table border=\"1\" class=\"dataframe\">\n",
       "  <thead>\n",
       "    <tr style=\"text-align: right;\">\n",
       "      <th></th>\n",
       "      <th>Date</th>\n",
       "      <th>Home</th>\n",
       "      <th>Score</th>\n",
       "      <th>Away</th>\n",
       "      <th>Venue</th>\n",
       "      <th>Score_home</th>\n",
       "      <th>Score_away</th>\n",
       "      <th>Rank diff</th>\n",
       "      <th>Rank diff away</th>\n",
       "      <th>Rating_home</th>\n",
       "      <th>Rating_away</th>\n",
       "      <th>Goals_home</th>\n",
       "      <th>Goals_away</th>\n",
       "      <th>Goals expected</th>\n",
       "      <th>Goals expected away</th>\n",
       "      <th>Goalsagainst_home</th>\n",
       "      <th>Goalsagainst_away</th>\n",
       "    </tr>\n",
       "  </thead>\n",
       "  <tbody>\n",
       "    <tr>\n",
       "      <th>487</th>\n",
       "      <td>2020-12-06</td>\n",
       "      <td>Sandviken</td>\n",
       "      <td>0–0</td>\n",
       "      <td>Avaldsnes</td>\n",
       "      <td>Stemmemyren kunstgressbane</td>\n",
       "      <td>0</td>\n",
       "      <td>0</td>\n",
       "      <td>1</td>\n",
       "      <td>-1</td>\n",
       "      <td>4</td>\n",
       "      <td>5</td>\n",
       "      <td>43</td>\n",
       "      <td>40</td>\n",
       "      <td>76</td>\n",
       "      <td>72</td>\n",
       "      <td>32</td>\n",
       "      <td>33</td>\n",
       "    </tr>\n",
       "    <tr>\n",
       "      <th>488</th>\n",
       "      <td>2020-12-06</td>\n",
       "      <td>LSK Kvinner</td>\n",
       "      <td>0–0</td>\n",
       "      <td>Lyn</td>\n",
       "      <td>LSK-hallen</td>\n",
       "      <td>0</td>\n",
       "      <td>0</td>\n",
       "      <td>9</td>\n",
       "      <td>-9</td>\n",
       "      <td>1</td>\n",
       "      <td>10</td>\n",
       "      <td>51</td>\n",
       "      <td>23</td>\n",
       "      <td>88</td>\n",
       "      <td>41</td>\n",
       "      <td>18</td>\n",
       "      <td>37</td>\n",
       "    </tr>\n",
       "    <tr>\n",
       "      <th>489</th>\n",
       "      <td>2020-12-06</td>\n",
       "      <td>Vålerenga</td>\n",
       "      <td>0–0</td>\n",
       "      <td>Arna-Bjørnar</td>\n",
       "      <td>Vålerenga kultur- og idrettspark kunstgr...</td>\n",
       "      <td>0</td>\n",
       "      <td>0</td>\n",
       "      <td>7</td>\n",
       "      <td>-7</td>\n",
       "      <td>2</td>\n",
       "      <td>9</td>\n",
       "      <td>41</td>\n",
       "      <td>26</td>\n",
       "      <td>82</td>\n",
       "      <td>50</td>\n",
       "      <td>24</td>\n",
       "      <td>41</td>\n",
       "    </tr>\n",
       "  </tbody>\n",
       "</table>\n",
       "</div>"
      ],
      "text/plain": [
       "          Date         Home Score          Away  \\\n",
       "487 2020-12-06    Sandviken   0–0     Avaldsnes   \n",
       "488 2020-12-06  LSK Kvinner   0–0           Lyn   \n",
       "489 2020-12-06    Vålerenga   0–0  Arna-Bjørnar   \n",
       "\n",
       "                                           Venue  Score_home  Score_away  \\\n",
       "487                   Stemmemyren kunstgressbane           0           0   \n",
       "488                                   LSK-hallen           0           0   \n",
       "489  Vålerenga kultur- og idrettspark kunstgr...           0           0   \n",
       "\n",
       "     Rank diff  Rank diff away  Rating_home  Rating_away  Goals_home  \\\n",
       "487          1              -1            4            5          43   \n",
       "488          9              -9            1           10          51   \n",
       "489          7              -7            2            9          41   \n",
       "\n",
       "     Goals_away  Goals expected  Goals expected away  Goalsagainst_home  \\\n",
       "487          40              76                   72                 32   \n",
       "488          23              88                   41                 18   \n",
       "489          26              82                   50                 24   \n",
       "\n",
       "     Goalsagainst_away  \n",
       "487                 33  \n",
       "488                 37  \n",
       "489                 41  "
      ]
     },
     "execution_count": 11,
     "metadata": {},
     "output_type": "execute_result"
    }
   ],
   "source": [
    "# Concatenating\n",
    "games_years = (games_17, games_18, games_19, games_20)\n",
    "\n",
    "# Creating the contatenated dataframe\n",
    "games = pd.concat(games_years, ignore_index=True)\n",
    "\n",
    "# This is so I can drop 2017 only for the visualization where 2017 have a lot of null values\n",
    "games_visual = pd.concat(games_years, ignore_index=True)\n",
    "\n",
    "# Table for the time being:\n",
    "games.tail(3)"
   ]
  },
  {
   "cell_type": "markdown",
   "id": "773c329e",
   "metadata": {},
   "source": [
    "**Concatenating the tables before splitting each row into two**"
   ]
  },
  {
   "cell_type": "code",
   "execution_count": 12,
   "id": "172b0171",
   "metadata": {},
   "outputs": [],
   "source": [
    "# Concatenating\n",
    "games = pd.concat(games_years, ignore_index=True)"
   ]
  },
  {
   "cell_type": "code",
   "execution_count": 13,
   "id": "9270cbce",
   "metadata": {},
   "outputs": [],
   "source": [
    "# Adding season to be able to drop and separate for season in model building\n",
    "games['Season'] = games['Date'].dt.year"
   ]
  },
  {
   "cell_type": "markdown",
   "id": "f0380d4b",
   "metadata": {},
   "source": [
    "### Splitting each row into two rows"
   ]
  },
  {
   "cell_type": "code",
   "execution_count": 14,
   "id": "baed06a9",
   "metadata": {},
   "outputs": [],
   "source": [
    "# Creating Match ID\n",
    "games[\"Match ID\"] = range(1, 1+len(games))\n",
    "#Creating a new column to take the variable home or away according to if their match is on homeground or awayground\n",
    "games[\"Home_Away\"] = \"Home\"\n",
    "\n",
    "#Duplicate each row for planning to only predict the score of 1 team\n",
    "games = games.loc[games.index.repeat(2),:].reset_index(drop=True)\n",
    "#create a variable to call only the duplicate or the original with true/false\n",
    "games_duplicate = games.duplicated(keep=\"first\")\n",
    "#Calls the duplicates \"away\"\n",
    "games.loc[games_duplicate,\"Home_Away\"] = \"Away\"\n",
    "#arranges the column values from Score_away to fit in score_home, I will later change the name of this to only \"score\", and changes the order of the teams so that i have one column with team to predict and one with opponent\n",
    "games.loc[games_duplicate, [\"Score_home\", \"Away\", \"Home\", \"Rank diff\", \"Rating_home\", \"Goals expected\"]] = games.loc[games_duplicate, [\"Score_away\", \"Home\",\"Away\", \"Rank diff away\", \"Rating_away\", \"Goals expected away\"]].to_numpy()\n",
    "\n",
    "# Removing unimporatant columns\n",
    "games = games.drop(['Score', \"Score_away\" ], axis = 1)\n",
    "\n",
    "#Renaming  columns\n",
    "games.rename(columns={\"Home\" : \"Team\",\n",
    "\"Away\" : \"Opponent\",\n",
    "\"Score_home\" : \"Goals\"}, inplace=True)\n",
    "\n",
    "games_visual = games.loc[(games['Season'] != 2017)]\n"
   ]
  },
  {
   "cell_type": "markdown",
   "id": "ada53441",
   "metadata": {},
   "source": [
    "**Creating normalized values for my variables**"
   ]
  },
  {
   "cell_type": "code",
   "execution_count": 15,
   "id": "4bcebd51",
   "metadata": {},
   "outputs": [],
   "source": [
    "#Normalized expected goals and ranking\n",
    "games['GE_N'] = (games['Goals expected']-games['Goals expected'].min())/(games['Goals expected'].max()-games['Goals expected'].min())\n",
    "games['Rk_N'] = (games['Rank diff']-games['Rank diff'].min())/(games['Rank diff'].max()-games['Rank diff'].min())"
   ]
  },
  {
   "cell_type": "markdown",
   "id": "b4a41af7",
   "metadata": {},
   "source": [
    "# <font color='darkred'>Visualizations</font>"
   ]
  },
  {
   "cell_type": "markdown",
   "id": "903c7f92",
   "metadata": {},
   "source": [
    "### Home-advantage?"
   ]
  },
  {
   "cell_type": "code",
   "execution_count": 16,
   "id": "98e804ae",
   "metadata": {
    "scrolled": true
   },
   "outputs": [
    {
     "data": {
      "image/png": "[encoded data removed]",
      "text/plain": [
       "<Figure size 432x288 with 1 Axes>"
      ]
     },
     "metadata": {
      "needs_background": "light"
     },
     "output_type": "display_data"
    }
   ],
   "source": [
    "#Bar plot over mean goals scored home and away\n",
    "colors = ['blue', 'orange']\n",
    "figure_1 = sns.barplot(x = 'Home_Away', y = \"Goals\", data = games, ci = False, \n",
    "                       palette = colors).set_title(\"Figure 1: Bar plot with mean Goals home and away teams\")\n",
    "\n",
    "\n"
   ]
  },
  {
   "cell_type": "markdown",
   "id": "33b357f7",
   "metadata": {},
   "source": [
    "**As we can see the 'Home' team scores on average more goals (about 1.5), than the 'Away' Team (about 1.1).**"
   ]
  },
  {
   "cell_type": "markdown",
   "id": "e2e52feb",
   "metadata": {},
   "source": [
    "## Variables\n",
    "---\n",
    "**We can study the effect of each variable**\n",
    "### <font color='Darkblue'> Ranking Variable</font>"
   ]
  },
  {
   "cell_type": "code",
   "execution_count": 17,
   "id": "301c4d96",
   "metadata": {},
   "outputs": [
    {
     "data": {
      "text/plain": [
       "<matplotlib.legend.Legend at 0x7fef465056a0>"
      ]
     },
     "execution_count": 17,
     "metadata": {},
     "output_type": "execute_result"
    },
    {
     "data": {
      "image/png": "[encoded data removed]",
      "text/plain": [
       "<Figure size 432x288 with 1 Axes>"
      ]
     },
     "metadata": {
      "needs_background": "light"
     },
     "output_type": "display_data"
    }
   ],
   "source": [
    "plt.scatter(x = games_visual['Rank diff'], y = games_visual['Goals'], alpha = 0.05, color = 'blue', label = 'Goals per ranking')\n",
    "plt.ylabel('Number of goals')\n",
    "plt.xlabel('Ranking')\n",
    "plt.title('Figure 2: Scatter plot for number of goals by variable \"Ranking\"')\n",
    "plt.legend(loc=(1.01,0.85))"
   ]
  },
  {
   "cell_type": "markdown",
   "id": "d9af32ff",
   "metadata": {},
   "source": [
    "<font color='Darkblue'> **This Figure shows the relationship between the variable ranking (normalized), that shows the difference in placement on the table last year for the team vs the opponent, and number of goals actually scored. In this Figure we can see that there are more action going on in the top right corner and the bottom left corner than on the other sides. I have put alpha to 0.1 so that the clusters of observations in the bottom left is clearly shown**</font>"
   ]
  },
  {
   "cell_type": "markdown",
   "id": "151fcc78",
   "metadata": {},
   "source": [
    "### <font color='green'> Goals Expected Variable</font>"
   ]
  },
  {
   "cell_type": "code",
   "execution_count": 18,
   "id": "cfffc57f",
   "metadata": {},
   "outputs": [
    {
     "data": {
      "text/plain": [
       "<matplotlib.legend.Legend at 0x7fef4674b4f0>"
      ]
     },
     "execution_count": 18,
     "metadata": {},
     "output_type": "execute_result"
    },
    {
     "data": {
      "image/png": "[encoded data removed]",
      "text/plain": [
       "<Figure size 432x288 with 1 Axes>"
      ]
     },
     "metadata": {
      "needs_background": "light"
     },
     "output_type": "display_data"
    }
   ],
   "source": [
    "colors= {'Home' : 'red', 'Away': 'blue'}\n",
    "plt.scatter(x = games_visual['Goals expected'], y = games_visual['Goals'], alpha = 0.1, color = 'green', label = 'Goals per expected goals')\n",
    "plt.ylabel('Number of goals')\n",
    "plt.xlabel('Goals expected')\n",
    "plt.title('Figure 3: Scatter plot for number of goals by variable \"Goals expected\"')\n",
    "plt.legend(loc=(1.01,0.85))"
   ]
  },
  {
   "cell_type": "markdown",
   "id": "edf8e06f",
   "metadata": {},
   "source": [
    "<font color='green'>**This Figure shows the relationship between the variable Goals expected, and number of goals actually scored. In this Figure we can see that there are more action going on in the bottom left corner and that the tendency is that it is slowly moving towards top right corner. I have put alpha to 0.1 so that the clusters of observations in the bottom left is clearly shown**</font>"
   ]
  },
  {
   "cell_type": "markdown",
   "id": "f1a1ebd1",
   "metadata": {},
   "source": [
    "---\n",
    "**The final cleaning of the data I only choose the relevant variables to export to the model selection**"
   ]
  },
  {
   "cell_type": "code",
   "execution_count": 19,
   "id": "3831ac10",
   "metadata": {},
   "outputs": [],
   "source": [
    "#Choosing relevant columns\n",
    "cols = ['Match ID', 'Season', 'Team', 'Opponent', 'Home_Away', 'GE_N', 'Rk_N', 'Goals']\n",
    "games = games[cols]"
   ]
  },
  {
   "cell_type": "code",
   "execution_count": 20,
   "id": "79e30b8e",
   "metadata": {
    "scrolled": true
   },
   "outputs": [
    {
     "data": {
      "text/html": [
       "<div>\n",
       "<style scoped>\n",
       "    .dataframe tbody tr th:only-of-type {\n",
       "        vertical-align: middle;\n",
       "    }\n",
       "\n",
       "    .dataframe tbody tr th {\n",
       "        vertical-align: top;\n",
       "    }\n",
       "\n",
       "    .dataframe thead th {\n",
       "        text-align: right;\n",
       "    }\n",
       "</style>\n",
       "<table border=\"1\" class=\"dataframe\">\n",
       "  <thead>\n",
       "    <tr style=\"text-align: right;\">\n",
       "      <th></th>\n",
       "      <th>Match ID</th>\n",
       "      <th>Season</th>\n",
       "      <th>Team</th>\n",
       "      <th>Opponent</th>\n",
       "      <th>Home_Away</th>\n",
       "      <th>GE_N</th>\n",
       "      <th>Rk_N</th>\n",
       "      <th>Goals</th>\n",
       "    </tr>\n",
       "  </thead>\n",
       "  <tbody>\n",
       "    <tr>\n",
       "      <th>0</th>\n",
       "      <td>1</td>\n",
       "      <td>2017</td>\n",
       "      <td>Medkila</td>\n",
       "      <td>Sandviken</td>\n",
       "      <td>Home</td>\n",
       "      <td>0.000000</td>\n",
       "      <td>0.500000</td>\n",
       "      <td>1</td>\n",
       "    </tr>\n",
       "    <tr>\n",
       "      <th>1</th>\n",
       "      <td>1</td>\n",
       "      <td>2017</td>\n",
       "      <td>Sandviken</td>\n",
       "      <td>Medkila</td>\n",
       "      <td>Away</td>\n",
       "      <td>0.000000</td>\n",
       "      <td>0.500000</td>\n",
       "      <td>1</td>\n",
       "    </tr>\n",
       "    <tr>\n",
       "      <th>2</th>\n",
       "      <td>2</td>\n",
       "      <td>2017</td>\n",
       "      <td>Avaldsnes</td>\n",
       "      <td>Vålerenga</td>\n",
       "      <td>Home</td>\n",
       "      <td>0.000000</td>\n",
       "      <td>0.500000</td>\n",
       "      <td>2</td>\n",
       "    </tr>\n",
       "    <tr>\n",
       "      <th>3</th>\n",
       "      <td>2</td>\n",
       "      <td>2017</td>\n",
       "      <td>Vålerenga</td>\n",
       "      <td>Avaldsnes</td>\n",
       "      <td>Away</td>\n",
       "      <td>0.000000</td>\n",
       "      <td>0.500000</td>\n",
       "      <td>1</td>\n",
       "    </tr>\n",
       "    <tr>\n",
       "      <th>4</th>\n",
       "      <td>3</td>\n",
       "      <td>2017</td>\n",
       "      <td>Grand Bodø</td>\n",
       "      <td>Arna-Bjørnar</td>\n",
       "      <td>Home</td>\n",
       "      <td>0.000000</td>\n",
       "      <td>0.500000</td>\n",
       "      <td>2</td>\n",
       "    </tr>\n",
       "    <tr>\n",
       "      <th>...</th>\n",
       "      <td>...</td>\n",
       "      <td>...</td>\n",
       "      <td>...</td>\n",
       "      <td>...</td>\n",
       "      <td>...</td>\n",
       "      <td>...</td>\n",
       "      <td>...</td>\n",
       "      <td>...</td>\n",
       "    </tr>\n",
       "    <tr>\n",
       "      <th>975</th>\n",
       "      <td>488</td>\n",
       "      <td>2020</td>\n",
       "      <td>Avaldsnes</td>\n",
       "      <td>Sandviken</td>\n",
       "      <td>Away</td>\n",
       "      <td>0.486486</td>\n",
       "      <td>0.454545</td>\n",
       "      <td>0</td>\n",
       "    </tr>\n",
       "    <tr>\n",
       "      <th>976</th>\n",
       "      <td>489</td>\n",
       "      <td>2020</td>\n",
       "      <td>LSK Kvinner</td>\n",
       "      <td>Lyn</td>\n",
       "      <td>Home</td>\n",
       "      <td>0.594595</td>\n",
       "      <td>0.909091</td>\n",
       "      <td>0</td>\n",
       "    </tr>\n",
       "    <tr>\n",
       "      <th>977</th>\n",
       "      <td>489</td>\n",
       "      <td>2020</td>\n",
       "      <td>Lyn</td>\n",
       "      <td>LSK Kvinner</td>\n",
       "      <td>Away</td>\n",
       "      <td>0.277027</td>\n",
       "      <td>0.090909</td>\n",
       "      <td>0</td>\n",
       "    </tr>\n",
       "    <tr>\n",
       "      <th>978</th>\n",
       "      <td>490</td>\n",
       "      <td>2020</td>\n",
       "      <td>Vålerenga</td>\n",
       "      <td>Arna-Bjørnar</td>\n",
       "      <td>Home</td>\n",
       "      <td>0.554054</td>\n",
       "      <td>0.818182</td>\n",
       "      <td>0</td>\n",
       "    </tr>\n",
       "    <tr>\n",
       "      <th>979</th>\n",
       "      <td>490</td>\n",
       "      <td>2020</td>\n",
       "      <td>Arna-Bjørnar</td>\n",
       "      <td>Vålerenga</td>\n",
       "      <td>Away</td>\n",
       "      <td>0.337838</td>\n",
       "      <td>0.181818</td>\n",
       "      <td>0</td>\n",
       "    </tr>\n",
       "  </tbody>\n",
       "</table>\n",
       "<p>980 rows × 8 columns</p>\n",
       "</div>"
      ],
      "text/plain": [
       "     Match ID  Season          Team      Opponent Home_Away      GE_N  \\\n",
       "0           1    2017       Medkila     Sandviken      Home  0.000000   \n",
       "1           1    2017     Sandviken       Medkila      Away  0.000000   \n",
       "2           2    2017     Avaldsnes     Vålerenga      Home  0.000000   \n",
       "3           2    2017     Vålerenga     Avaldsnes      Away  0.000000   \n",
       "4           3    2017    Grand Bodø  Arna-Bjørnar      Home  0.000000   \n",
       "..        ...     ...           ...           ...       ...       ...   \n",
       "975       488    2020     Avaldsnes     Sandviken      Away  0.486486   \n",
       "976       489    2020   LSK Kvinner           Lyn      Home  0.594595   \n",
       "977       489    2020           Lyn   LSK Kvinner      Away  0.277027   \n",
       "978       490    2020     Vålerenga  Arna-Bjørnar      Home  0.554054   \n",
       "979       490    2020  Arna-Bjørnar     Vålerenga      Away  0.337838   \n",
       "\n",
       "         Rk_N  Goals  \n",
       "0    0.500000      1  \n",
       "1    0.500000      1  \n",
       "2    0.500000      2  \n",
       "3    0.500000      1  \n",
       "4    0.500000      2  \n",
       "..        ...    ...  \n",
       "975  0.454545      0  \n",
       "976  0.909091      0  \n",
       "977  0.090909      0  \n",
       "978  0.818182      0  \n",
       "979  0.181818      0  \n",
       "\n",
       "[980 rows x 8 columns]"
      ]
     },
     "execution_count": 20,
     "metadata": {},
     "output_type": "execute_result"
    }
   ],
   "source": [
    "games.to_csv(\"cleaned_data.csv\", index = False)\n",
    "games"
   ]
  },
  {
   "cell_type": "markdown",
   "id": "06905b22",
   "metadata": {},
   "source": [
    "---\n",
    "**IMPORTANT INPUT REGARDING NOT CREATING VARIABLES FOR PLAYER STATISTICS:**\n"
   ]
  },
  {
   "cell_type": "markdown",
   "id": "14653dd9",
   "metadata": {},
   "source": [
    "**I have avoided using player statistics to create variables since football matches have such a high degree of randomness to a score. I therefore wanted my model to be as simple and precise as possible. I did not find any variables for player statistics that I believe would have made such an important impact that it would be worth making the model more prone to overfitting. \n",
    "Still, some of the variables I have considered were these:**"
   ]
  },
  {
   "cell_type": "markdown",
   "id": "2d31a208",
   "metadata": {},
   "source": [
    "- Ranking of the top 14 players of the team I am to predict score for (11 players + 3 substitutes)\n",
    "    - This could have been even more advanced by selecting 1 keeper, top 5 defenders, top 5 midfielders and top 3 strikers\n",
    "- Mean age \n",
    "- Ranking best player"
   ]
  },
  {
   "cell_type": "code",
   "execution_count": null,
   "id": "3f6366f3",
   "metadata": {},
   "outputs": [],
   "source": []
  }
 ],
 "metadata": {
  "kernelspec": {
   "display_name": "Python 3",
   "language": "python",
   "name": "python3"
  },
  "language_info": {
   "codemirror_mode": {
    "name": "ipython",
    "version": 3
   },
   "file_extension": ".py",
   "mimetype": "text/x-python",
   "name": "python",
   "nbconvert_exporter": "python",
   "pygments_lexer": "ipython3",
   "version": "3.8.8"
  }
 },
 "nbformat": 4,
 "nbformat_minor": 5
}
